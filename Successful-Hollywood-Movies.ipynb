{
 "cells": [
  {
   "cell_type": "markdown",
   "metadata": {},
   "source": [
    "# Successful-Hollywood-Movies\n",
    "## 1. Introduction\n",
    "This project is based on a Competition I participated in through DataCamp. The problem statement was as follows: You have just been hired by a large movie studio to perform data analysis. Your manager, an executive at the company, wants to make new movies that \"recapture the magic of old Hollywood.\" So you've decided to look at the most successful films that came out before Titanic in 1997 to identify patterns and help generate ideas that could turn into future successful films.\n",
    "\n",
    "In this project I utilized SQL to extract ... \n",
    "and address the following questions:\n",
    "1. How many movies are present in the database?\n",
    "2. There seems to be a lot of missing data in the gross and budget columns. How many rows have missing data? What would you recommend your manager to do with these rows? \n",
    "3. How many different certifications or ratings are present in the database? \n",
    "4. What are the top five countries in terms of number of movies produced?\n",
    "5. What is the average duration of English versus French movies? (Don't forget you can use the AI assistant!) \n",
    "6. Any other insights you found during your analysis? "
   ]
  },
  {
   "cell_type": "markdown",
   "metadata": {},
   "source": [
    "## 2. Data\n",
    "The dataset containing Movies records was collected from [IMBD](https://www.imdb.com/).\n",
    "The following table gives a brief description of the columns and key variables.\n",
    "| Column name | Description |\n",
    "|---|---|\n",
    "| id | Unique movie identifier. |\n",
    "| title | The title of the movie. |\n",
    "| release_year | The year the movie was released to the public. |\n",
    "| country | The country in which the movie was released. |\n",
    "| duration | The runtime of the movie, in minutes. |\n",
    "| language | The original language the movie was produced in. |\n",
    "| certification | The [rating](https://simple.wikipedia.org/wiki/Motion_Picture_Association_film_rating_system) the movie was given based on their suitability for audiences. |\n",
    "| gross | The revenue the movie generated at the box office, in USD. |\n",
    "| budget | The available budget the production had for producing the movie, in USD. |"
   ]
  },
  {
   "cell_type": "code",
   "execution_count": 4,
   "metadata": {
    "vscode": {
     "languageId": "sql"
    }
   },
   "outputs": [
    {
     "ename": "SyntaxError",
     "evalue": "invalid syntax (1564898380.py, line 1)",
     "output_type": "error",
     "traceback": [
      "\u001b[0;36m  Cell \u001b[0;32mIn[4], line 1\u001b[0;36m\u001b[0m\n\u001b[0;31m    SELECT *\u001b[0m\n\u001b[0m             ^\u001b[0m\n\u001b[0;31mSyntaxError\u001b[0m\u001b[0;31m:\u001b[0m invalid syntax\n"
     ]
    }
   ],
   "source": [
    "SELECT * \n",
    "FROM films;"
   ]
  }
 ],
 "metadata": {
  "kernelspec": {
   "display_name": "Python 3",
   "language": "python",
   "name": "python3"
  },
  "language_info": {
   "codemirror_mode": {
    "name": "ipython",
    "version": 3
   },
   "file_extension": ".py",
   "mimetype": "text/x-python",
   "name": "python",
   "nbconvert_exporter": "python",
   "pygments_lexer": "ipython3",
   "version": "3.12.1"
  }
 },
 "nbformat": 4,
 "nbformat_minor": 2
}
