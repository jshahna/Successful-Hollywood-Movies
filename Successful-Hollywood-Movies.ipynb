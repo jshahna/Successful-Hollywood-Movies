{
 "cells": [
  {
   "cell_type": "markdown",
   "metadata": {},
   "source": [
    "# Successful-Hollywood-Movies\n",
    "## 1. Introduction\n",
    "This project is based on a Competition I participated in through DataCamp. The problem statement was as follows: You have just been hired by a large movie studio to perform data analysis. Your manager, an executive at the company, wants to make new movies that \"recapture the magic of old Hollywood.\" So you've decided to look at the most successful films that came out before Titanic in 1997 to identify patterns and help generate ideas that could turn into future successful films.\n",
    "\n",
    "In this project I utilized SQL to extract ... \n",
    "and address the following questions:\n",
    "1. How many movies are present in the database?\n",
    "2. There seems to be a lot of missing data in the gross and budget columns. How many rows have missing data? What would you recommend your manager to do with these rows? \n",
    "3. How many different certifications or ratings are present in the database? \n",
    "4. What are the top five countries in terms of number of movies produced?\n",
    "5. What is the average duration of English versus French movies?\n",
    "6. Any other insights you found during your analysis? "
   ]
  },
  {
   "cell_type": "markdown",
   "metadata": {},
   "source": [
    "## 2. Data\n",
    "The dataset containing Movies records was collected from [IMBD](https://www.imdb.com/).\n",
    "The following table gives a brief description of the columns and key variables.\n",
    "| Column name | Description |\n",
    "|---|---|\n",
    "| id | Unique movie identifier. |\n",
    "| title | The title of the movie. |\n",
    "| release_year | The year the movie was released to the public. |\n",
    "| country | The country in which the movie was released. |\n",
    "| duration | The runtime of the movie, in minutes. |\n",
    "| language | The original language the movie was produced in. |\n",
    "| certification | The [rating](https://simple.wikipedia.org/wiki/Motion_Picture_Association_film_rating_system) the movie was given based on their suitability for audiences. |\n",
    "| gross | The revenue the movie generated at the box office, in USD. |\n",
    "| budget | The available budget the production had for producing the movie, in USD. |"
   ]
  },
  {
   "cell_type": "markdown",
   "metadata": {},
   "source": [
    "### 2.1 Initial Data Exploration\n",
    "Create a connection to SQL, and using SQL Magic to run SQL commands "
   ]
  },
  {
   "cell_type": "code",
   "execution_count": 33,
   "metadata": {
    "vscode": {
     "languageId": "sql"
    }
   },
   "outputs": [
    {
     "name": "stdout",
     "output_type": "stream",
     "text": [
      "Requirement already satisfied: ipython-sql in /usr/local/python/3.12.1/lib/python3.12/site-packages (0.5.0)\n",
      "Requirement already satisfied: prettytable in /usr/local/python/3.12.1/lib/python3.12/site-packages (from ipython-sql) (3.11.0)\n",
      "Requirement already satisfied: ipython in /home/codespace/.local/lib/python3.12/site-packages (from ipython-sql) (8.26.0)\n",
      "Requirement already satisfied: sqlalchemy>=2.0 in /usr/local/python/3.12.1/lib/python3.12/site-packages (from ipython-sql) (2.0.34)\n",
      "Requirement already satisfied: sqlparse in /usr/local/python/3.12.1/lib/python3.12/site-packages (from ipython-sql) (0.5.1)\n",
      "Requirement already satisfied: six in /home/codespace/.local/lib/python3.12/site-packages (from ipython-sql) (1.16.0)\n",
      "Requirement already satisfied: ipython-genutils in /usr/local/python/3.12.1/lib/python3.12/site-packages (from ipython-sql) (0.2.0)\n",
      "Requirement already satisfied: typing-extensions>=4.6.0 in /home/codespace/.local/lib/python3.12/site-packages (from sqlalchemy>=2.0->ipython-sql) (4.9.0)\n",
      "Requirement already satisfied: greenlet!=0.4.17 in /usr/local/python/3.12.1/lib/python3.12/site-packages (from sqlalchemy>=2.0->ipython-sql) (3.0.3)\n",
      "Requirement already satisfied: decorator in /home/codespace/.local/lib/python3.12/site-packages (from ipython->ipython-sql) (5.1.1)\n",
      "Requirement already satisfied: jedi>=0.16 in /home/codespace/.local/lib/python3.12/site-packages (from ipython->ipython-sql) (0.19.1)\n",
      "Requirement already satisfied: matplotlib-inline in /home/codespace/.local/lib/python3.12/site-packages (from ipython->ipython-sql) (0.1.7)\n",
      "Requirement already satisfied: prompt-toolkit<3.1.0,>=3.0.41 in /home/codespace/.local/lib/python3.12/site-packages (from ipython->ipython-sql) (3.0.47)\n",
      "Requirement already satisfied: pygments>=2.4.0 in /home/codespace/.local/lib/python3.12/site-packages (from ipython->ipython-sql) (2.18.0)\n",
      "Requirement already satisfied: stack-data in /home/codespace/.local/lib/python3.12/site-packages (from ipython->ipython-sql) (0.6.3)\n",
      "Requirement already satisfied: traitlets>=5.13.0 in /home/codespace/.local/lib/python3.12/site-packages (from ipython->ipython-sql) (5.14.3)\n",
      "Requirement already satisfied: pexpect>4.3 in /home/codespace/.local/lib/python3.12/site-packages (from ipython->ipython-sql) (4.9.0)\n",
      "Requirement already satisfied: wcwidth in /home/codespace/.local/lib/python3.12/site-packages (from prettytable->ipython-sql) (0.2.13)\n",
      "Requirement already satisfied: parso<0.9.0,>=0.8.3 in /home/codespace/.local/lib/python3.12/site-packages (from jedi>=0.16->ipython->ipython-sql) (0.8.4)\n",
      "Requirement already satisfied: ptyprocess>=0.5 in /home/codespace/.local/lib/python3.12/site-packages (from pexpect>4.3->ipython->ipython-sql) (0.7.0)\n",
      "Requirement already satisfied: executing>=1.2.0 in /home/codespace/.local/lib/python3.12/site-packages (from stack-data->ipython->ipython-sql) (2.0.1)\n",
      "Requirement already satisfied: asttokens>=2.1.0 in /home/codespace/.local/lib/python3.12/site-packages (from stack-data->ipython->ipython-sql) (2.4.1)\n",
      "Requirement already satisfied: pure-eval in /home/codespace/.local/lib/python3.12/site-packages (from stack-data->ipython->ipython-sql) (0.2.3)\n"
     ]
    }
   ],
   "source": [
    "!pip install ipython-sql\n"
   ]
  },
  {
   "cell_type": "code",
   "execution_count": 64,
   "metadata": {
    "vscode": {
     "languageId": "sql"
    }
   },
   "outputs": [],
   "source": [
    "import pandas as pd\n",
    "\n",
    "#Load the CSV file into a DataFrame\n",
    "df = pd.read_csv('films.csv')\n",
    "reviews = pd.read_csv('reviews.csv')"
   ]
  },
  {
   "cell_type": "code",
   "execution_count": 65,
   "metadata": {
    "vscode": {
     "languageId": "sql"
    }
   },
   "outputs": [],
   "source": [
    "# Load pandas DataFrame into an in-memory SQLite database\n",
    "import sqlite3\n",
    "\n",
    "# Create an in-memory SQLite connection\n",
    "conn = sqlite3.connect('cinema.db')\n",
    "\n",
    "# Write the DataFrame to an SQLite table\n",
    "df.to_sql('films', conn, index=False, if_exists='replace')\n",
    "reviews.to_sql('reviews', conn, index=False, if_exists='replace')\n",
    "\n",
    "# Load the sql extension\n",
    "%reload_ext sql\n",
    "\n",
    "# Use SQL magic to query the table\n",
    "%sql sqlite:///cinema.db\n"
   ]
  },
  {
   "cell_type": "code",
   "execution_count": 39,
   "metadata": {
    "vscode": {
     "languageId": "sql"
    }
   },
   "outputs": [
    {
     "name": "stdout",
     "output_type": "stream",
     "text": [
      "   sqlite:///:memory:\n",
      " * sqlite:///cinema.db\n",
      "   sqlite:///my_database.db\n",
      "Done.\n"
     ]
    },
    {
     "data": {
      "text/html": [
       "<table>\n",
       "    <thead>\n",
       "        <tr>\n",
       "            <th>id</th>\n",
       "            <th>title</th>\n",
       "            <th>release_year</th>\n",
       "            <th>country</th>\n",
       "            <th>duration</th>\n",
       "            <th>language</th>\n",
       "            <th>certification</th>\n",
       "            <th>gross</th>\n",
       "            <th>budget</th>\n",
       "        </tr>\n",
       "    </thead>\n",
       "    <tbody>\n",
       "        <tr>\n",
       "            <td>1</td>\n",
       "            <td>Intolerance: Love&#x27;s Struggle Throughout the Ages</td>\n",
       "            <td>1916.0</td>\n",
       "            <td>USA</td>\n",
       "            <td>123.0</td>\n",
       "            <td>None</td>\n",
       "            <td>Not Rated</td>\n",
       "            <td>None</td>\n",
       "            <td>385907.0</td>\n",
       "        </tr>\n",
       "        <tr>\n",
       "            <td>2</td>\n",
       "            <td>Over the Hill to the Poorhouse</td>\n",
       "            <td>1920.0</td>\n",
       "            <td>USA</td>\n",
       "            <td>110.0</td>\n",
       "            <td>None</td>\n",
       "            <td>None</td>\n",
       "            <td>3000000.0</td>\n",
       "            <td>100000.0</td>\n",
       "        </tr>\n",
       "        <tr>\n",
       "            <td>3</td>\n",
       "            <td>The Big Parade</td>\n",
       "            <td>1925.0</td>\n",
       "            <td>USA</td>\n",
       "            <td>151.0</td>\n",
       "            <td>None</td>\n",
       "            <td>Not Rated</td>\n",
       "            <td>None</td>\n",
       "            <td>245000.0</td>\n",
       "        </tr>\n",
       "        <tr>\n",
       "            <td>4</td>\n",
       "            <td>Metropolis</td>\n",
       "            <td>1927.0</td>\n",
       "            <td>Germany</td>\n",
       "            <td>145.0</td>\n",
       "            <td>German</td>\n",
       "            <td>Not Rated</td>\n",
       "            <td>26435.0</td>\n",
       "            <td>6000000.0</td>\n",
       "        </tr>\n",
       "        <tr>\n",
       "            <td>5</td>\n",
       "            <td>Pandora&#x27;s Box</td>\n",
       "            <td>1929.0</td>\n",
       "            <td>Germany</td>\n",
       "            <td>110.0</td>\n",
       "            <td>German</td>\n",
       "            <td>Not Rated</td>\n",
       "            <td>9950.0</td>\n",
       "            <td>None</td>\n",
       "        </tr>\n",
       "        <tr>\n",
       "            <td>6</td>\n",
       "            <td>The Broadway Melody</td>\n",
       "            <td>1929.0</td>\n",
       "            <td>USA</td>\n",
       "            <td>100.0</td>\n",
       "            <td>English</td>\n",
       "            <td>Passed</td>\n",
       "            <td>2808000.0</td>\n",
       "            <td>379000.0</td>\n",
       "        </tr>\n",
       "        <tr>\n",
       "            <td>7</td>\n",
       "            <td>Hell&#x27;s Angels</td>\n",
       "            <td>1930.0</td>\n",
       "            <td>USA</td>\n",
       "            <td>96.0</td>\n",
       "            <td>English</td>\n",
       "            <td>Passed</td>\n",
       "            <td>None</td>\n",
       "            <td>3950000.0</td>\n",
       "        </tr>\n",
       "        <tr>\n",
       "            <td>8</td>\n",
       "            <td>A Farewell to Arms</td>\n",
       "            <td>1932.0</td>\n",
       "            <td>USA</td>\n",
       "            <td>79.0</td>\n",
       "            <td>English</td>\n",
       "            <td>Unrated</td>\n",
       "            <td>None</td>\n",
       "            <td>800000.0</td>\n",
       "        </tr>\n",
       "        <tr>\n",
       "            <td>9</td>\n",
       "            <td>42nd Street</td>\n",
       "            <td>1933.0</td>\n",
       "            <td>USA</td>\n",
       "            <td>89.0</td>\n",
       "            <td>English</td>\n",
       "            <td>Unrated</td>\n",
       "            <td>2300000.0</td>\n",
       "            <td>439000.0</td>\n",
       "        </tr>\n",
       "        <tr>\n",
       "            <td>10</td>\n",
       "            <td>She Done Him Wrong</td>\n",
       "            <td>1933.0</td>\n",
       "            <td>USA</td>\n",
       "            <td>66.0</td>\n",
       "            <td>English</td>\n",
       "            <td>Approved</td>\n",
       "            <td>None</td>\n",
       "            <td>200000.0</td>\n",
       "        </tr>\n",
       "    </tbody>\n",
       "</table>"
      ],
      "text/plain": [
       "[(1, \"Intolerance: Love's Struggle Throughout the Ages\", 1916.0, 'USA', 123.0, None, 'Not Rated', None, 385907.0),\n",
       " (2, 'Over the Hill to the Poorhouse', 1920.0, 'USA', 110.0, None, None, 3000000.0, 100000.0),\n",
       " (3, 'The Big Parade', 1925.0, 'USA', 151.0, None, 'Not Rated', None, 245000.0),\n",
       " (4, 'Metropolis', 1927.0, 'Germany', 145.0, 'German', 'Not Rated', 26435.0, 6000000.0),\n",
       " (5, \"Pandora's Box\", 1929.0, 'Germany', 110.0, 'German', 'Not Rated', 9950.0, None),\n",
       " (6, 'The Broadway Melody', 1929.0, 'USA', 100.0, 'English', 'Passed', 2808000.0, 379000.0),\n",
       " (7, \"Hell's Angels\", 1930.0, 'USA', 96.0, 'English', 'Passed', None, 3950000.0),\n",
       " (8, 'A Farewell to Arms', 1932.0, 'USA', 79.0, 'English', 'Unrated', None, 800000.0),\n",
       " (9, '42nd Street', 1933.0, 'USA', 89.0, 'English', 'Unrated', 2300000.0, 439000.0),\n",
       " (10, 'She Done Him Wrong', 1933.0, 'USA', 66.0, 'English', 'Approved', None, 200000.0)]"
      ]
     },
     "execution_count": 39,
     "metadata": {},
     "output_type": "execute_result"
    }
   ],
   "source": [
    "%%sql\n",
    "SELECT * FROM films LIMIT 10;"
   ]
  },
  {
   "cell_type": "markdown",
   "metadata": {},
   "source": [
    "#### Identifying outliers"
   ]
  },
  {
   "cell_type": "markdown",
   "metadata": {},
   "source": [
    "### 2.2 Missing Data\n",
    "Number of missing values for each column"
   ]
  },
  {
   "cell_type": "code",
   "execution_count": null,
   "metadata": {
    "vscode": {
     "languageId": "sql"
    }
   },
   "outputs": [],
   "source": [
    "%%sql\n",
    "SELECT \n",
    "  SUM(CASE WHEN id IS NULL THEN 1 ELSE 0 END) AS id_missing,\n",
    "  SUM(CASE WHEN title IS NULL THEN 1 ELSE 0 END) AS title_missing,\n",
    "  SUM(CASE WHEN country IS NULL THEN 1 ELSE 0 END) AS country_missing,\n",
    "  SUM(CASE WHEN duration IS NULL THEN 1 ELSE 0 END) AS duration_missing,\n",
    "  SUM(CASE WHEN language IS NULL THEN 1 ELSE 0 END) AS language_missing,\n",
    "  SUM(CASE WHEN certification IS NULL THEN 1 ELSE 0 END) AS certification_missing,\n",
    "  SUM(CASE WHEN gross IS NULL THEN 1 ELSE 0 END) AS gross_missing,\n",
    "  SUM(CASE WHEN budget IS NULL THEN 1 ELSE 0 END) AS budget_missing\n",
    "\n",
    "FROM films;"
   ]
  },
  {
   "cell_type": "markdown",
   "metadata": {},
   "source": [
    "## 3. Methodology"
   ]
  },
  {
   "cell_type": "markdown",
   "metadata": {},
   "source": [
    "## 4. Results\n",
    "### 4.1. Number of Movies Included in the Dataset"
   ]
  },
  {
   "cell_type": "markdown",
   "metadata": {},
   "source": [
    "**Excluding the duplicated records, there are 4,846 movies presented in this database** <br>\n",
    "The code below verifies that there are two movies with the exact same title but in reality they are different movies, so it is important to verify exact duplicates by including \"duration\",\"release_year\" and \"country\" columns:"
   ]
  },
  {
   "cell_type": "code",
   "execution_count": 63,
   "metadata": {
    "vscode": {
     "languageId": "sql"
    }
   },
   "outputs": [
    {
     "name": "stdout",
     "output_type": "stream",
     "text": [
      "   sqlite:///:memory:\n",
      " * sqlite:///cinema.db\n",
      "   sqlite:///my_database.db\n",
      "Done.\n"
     ]
    },
    {
     "data": {
      "text/html": [
       "<table>\n",
       "    <thead>\n",
       "        <tr>\n",
       "            <th>total_rows</th>\n",
       "        </tr>\n",
       "    </thead>\n",
       "    <tbody>\n",
       "        <tr>\n",
       "            <td>4968</td>\n",
       "        </tr>\n",
       "    </tbody>\n",
       "</table>"
      ],
      "text/plain": [
       "[(4968,)]"
      ]
     },
     "execution_count": 63,
     "metadata": {},
     "output_type": "execute_result"
    }
   ],
   "source": [
    "%%sql\n",
    "SELECT COUNT(*) AS total_rows FROM films;"
   ]
  },
  {
   "cell_type": "code",
   "execution_count": 46,
   "metadata": {
    "vscode": {
     "languageId": "sql"
    }
   },
   "outputs": [
    {
     "name": "stdout",
     "output_type": "stream",
     "text": [
      "   sqlite:///:memory:\n",
      " * sqlite:///cinema.db\n",
      "   sqlite:///my_database.db\n",
      "Done.\n"
     ]
    },
    {
     "data": {
      "text/html": [
       "<table>\n",
       "    <thead>\n",
       "        <tr>\n",
       "            <th>total_duplicate_count</th>\n",
       "        </tr>\n",
       "    </thead>\n",
       "    <tbody>\n",
       "        <tr>\n",
       "            <td>122</td>\n",
       "        </tr>\n",
       "    </tbody>\n",
       "</table>"
      ],
      "text/plain": [
       "[(122,)]"
      ]
     },
     "execution_count": 46,
     "metadata": {},
     "output_type": "execute_result"
    }
   ],
   "source": [
    "%%sql\n",
    "SELECT     SUM(duplicate_count) AS total_duplicate_count\n",
    "FROM (\n",
    "SELECT title, release_year, duration, country, COUNT(*)-1 AS duplicate_count\n",
    "FROM films\n",
    "GROUP BY title, release_year, duration, country\n",
    "HAVING COUNT(*) > 1\n",
    ") AS duplicated_counts"
   ]
  },
  {
   "cell_type": "code",
   "execution_count": 58,
   "metadata": {
    "vscode": {
     "languageId": "sql"
    }
   },
   "outputs": [
    {
     "name": "stdout",
     "output_type": "stream",
     "text": [
      "   sqlite:///:memory:\n",
      " * sqlite:///cinema.db\n",
      "   sqlite:///my_database.db\n",
      "Done.\n"
     ]
    },
    {
     "data": {
      "text/html": [
       "<table>\n",
       "    <thead>\n",
       "        <tr>\n",
       "            <th>id</th>\n",
       "            <th>title</th>\n",
       "            <th>release_year</th>\n",
       "            <th>country</th>\n",
       "            <th>duration</th>\n",
       "            <th>language</th>\n",
       "            <th>certification</th>\n",
       "            <th>gross</th>\n",
       "            <th>budget</th>\n",
       "        </tr>\n",
       "    </thead>\n",
       "    <tbody>\n",
       "        <tr>\n",
       "            <td>271</td>\n",
       "            <td>Out of the Blue</td>\n",
       "            <td>1980.0</td>\n",
       "            <td>Canada</td>\n",
       "            <td>94.0</td>\n",
       "            <td>English</td>\n",
       "            <td>R</td>\n",
       "            <td>None</td>\n",
       "            <td>2200000.0</td>\n",
       "        </tr>\n",
       "        <tr>\n",
       "            <td>2644</td>\n",
       "            <td>Out of the Blue</td>\n",
       "            <td>2006.0</td>\n",
       "            <td>New Zealand</td>\n",
       "            <td>100.0</td>\n",
       "            <td>English</td>\n",
       "            <td>None</td>\n",
       "            <td>728.0</td>\n",
       "            <td>None</td>\n",
       "        </tr>\n",
       "        <tr>\n",
       "            <td>2704</td>\n",
       "            <td>The Host</td>\n",
       "            <td>2006.0</td>\n",
       "            <td>South Korea</td>\n",
       "            <td>110.0</td>\n",
       "            <td>Korean</td>\n",
       "            <td>R</td>\n",
       "            <td>2201412.0</td>\n",
       "            <td>12215500000.0</td>\n",
       "        </tr>\n",
       "        <tr>\n",
       "            <td>4295</td>\n",
       "            <td>The Host</td>\n",
       "            <td>2013.0</td>\n",
       "            <td>USA</td>\n",
       "            <td>125.0</td>\n",
       "            <td>English</td>\n",
       "            <td>PG-13</td>\n",
       "            <td>26616999.0</td>\n",
       "            <td>40000000.0</td>\n",
       "        </tr>\n",
       "    </tbody>\n",
       "</table>"
      ],
      "text/plain": [
       "[(271, 'Out of the Blue', 1980.0, 'Canada', 94.0, 'English', 'R', None, 2200000.0),\n",
       " (2644, 'Out of the Blue', 2006.0, 'New Zealand', 100.0, 'English', None, 728.0, None),\n",
       " (2704, 'The Host', 2006.0, 'South Korea', 110.0, 'Korean', 'R', 2201412.0, 12215500000.0),\n",
       " (4295, 'The Host', 2013.0, 'USA', 125.0, 'English', 'PG-13', 26616999.0, 40000000.0)]"
      ]
     },
     "execution_count": 58,
     "metadata": {},
     "output_type": "execute_result"
    }
   ],
   "source": [
    "%%sql\n",
    "\n",
    "WITH duplicate_titles AS (\n",
    "    SELECT title, duration, gross, certification, budget, language, country\n",
    "    FROM films\n",
    "    GROUP BY title\n",
    "    HAVING COUNT(*) > 1\n",
    ")\n",
    "\n",
    "-- Find rows with those duplicate titles and ensure other columns are not identical\n",
    "SELECT f1.*\n",
    "FROM films f1\n",
    "JOIN duplicate_titles dt ON f1.title = dt.title\n",
    "WHERE EXISTS (\n",
    "    SELECT 1\n",
    "    FROM films f2\n",
    "    WHERE f1.title = f2.title\n",
    "      AND (f1.duration != f2.duration\n",
    "        OR f1.gross != f2.gross\n",
    "        OR f1.certification != f2.certification\n",
    "        OR f1.budget != f2.budget\n",
    "        OR f1.language != f2.language\n",
    "        OR f1.country != f2.country)\n",
    ")\n",
    "ORDER BY f1.title;"
   ]
  },
  {
   "cell_type": "markdown",
   "metadata": {},
   "source": [
    "### 4.2. Gross and Budget Columns Missing Data Handling\n",
    "**From the main data table there are 1,076 rows that miss data either in gross or budget column. That's about 22% of the data which is significant. Among the 917 records for movies that are released before 1997, the number of rows missing gross revenue data is 242 which is a large portion of the data as well. For these records where the gross revenue is missing, we could join the 'film' table with 'review' table and create a column which calculates the success of each movie based on number of votes and imdb score of that movie. This would help find the successful movies before 1997 for which the gross revenue data is not available.** <br>\n",
    "<br>\n",
    "**Among the movies that are released prior to 1997 and the gross revenue data is not available for them, top 5 which has recieved a combination of highest number of votes and best imdb scores are: <br>\n",
    "1- The shining <br>\n",
    "2- Taxi Driver <br>\n",
    "3- 12 Angry Men <br>\n",
    "4- Casablanca <br>\n",
    "5- Dr. Strangelove or: How I Learned to Stop Worrying and Love the Bomb**<br>\n",
    "<br>\n",
    "Number of rows that either 'gross' or 'budget' columns are missing"
   ]
  },
  {
   "cell_type": "code",
   "execution_count": 62,
   "metadata": {
    "vscode": {
     "languageId": "sql"
    }
   },
   "outputs": [
    {
     "name": "stdout",
     "output_type": "stream",
     "text": [
      "   sqlite:///:memory:\n",
      " * sqlite:///cinema.db\n",
      "   sqlite:///my_database.db\n",
      "Done.\n"
     ]
    },
    {
     "data": {
      "text/html": [
       "<table>\n",
       "    <thead>\n",
       "        <tr>\n",
       "            <th>gross_or_budget_missing</th>\n",
       "            <th>gross_missing_before_1997</th>\n",
       "        </tr>\n",
       "    </thead>\n",
       "    <tbody>\n",
       "        <tr>\n",
       "            <td>1076</td>\n",
       "            <td>242</td>\n",
       "        </tr>\n",
       "    </tbody>\n",
       "</table>"
      ],
      "text/plain": [
       "[(1076, 242)]"
      ]
     },
     "execution_count": 62,
     "metadata": {},
     "output_type": "execute_result"
    }
   ],
   "source": [
    "%%sql\n",
    "SELECT \n",
    "  SUM(CASE WHEN (gross IS NULL OR budget IS NULL) THEN 1 ELSE 0 END) AS gross_or_budget_missing,\n",
    "  SUM(CASE WHEN (release_year < 1997 AND gross IS NULL) THEN 1 ELSE 0 END) AS gross_missing_before_1997 --Number of rows that 'gross' column is missing for movies that are released before 1997\n",
    "  FROM films;"
   ]
  },
  {
   "cell_type": "markdown",
   "metadata": {},
   "source": [
    "For the rows that the gross value is missing, we can create a new metric, \"movie_rating\" which is calculated by multiplying number of reviews by imbd score of that movie. This is to avoid bias if there are only few reviews for a specific movie."
   ]
  },
  {
   "cell_type": "code",
   "execution_count": 71,
   "metadata": {
    "vscode": {
     "languageId": "sql"
    }
   },
   "outputs": [
    {
     "name": "stdout",
     "output_type": "stream",
     "text": [
      "   sqlite:///:memory:\n",
      " * sqlite:///cinema.db\n",
      "   sqlite:///my_database.db\n",
      "Done.\n"
     ]
    },
    {
     "data": {
      "text/html": [
       "<table>\n",
       "    <thead>\n",
       "        <tr>\n",
       "            <th>id</th>\n",
       "            <th>title</th>\n",
       "            <th>release_year</th>\n",
       "            <th>country</th>\n",
       "            <th>duration</th>\n",
       "            <th>language</th>\n",
       "            <th>certification</th>\n",
       "            <th>gross</th>\n",
       "            <th>budget</th>\n",
       "            <th>id_1</th>\n",
       "            <th>film_id</th>\n",
       "            <th>num_user</th>\n",
       "            <th>num_critic</th>\n",
       "            <th>imdb_score</th>\n",
       "            <th>num_votes</th>\n",
       "            <th>facebook_likes</th>\n",
       "            <th>movie_rating</th>\n",
       "        </tr>\n",
       "    </thead>\n",
       "    <tbody>\n",
       "        <tr>\n",
       "            <td>284</td>\n",
       "            <td>The Shining</td>\n",
       "            <td>1980.0</td>\n",
       "            <td>USA</td>\n",
       "            <td>146.0</td>\n",
       "            <td>English</td>\n",
       "            <td>R</td>\n",
       "            <td>None</td>\n",
       "            <td>19000000.0</td>\n",
       "            <td>1055</td>\n",
       "            <td>284</td>\n",
       "            <td>1320.0</td>\n",
       "            <td>253.0</td>\n",
       "            <td>8.4</td>\n",
       "            <td>610333</td>\n",
       "            <td>37000</td>\n",
       "            <td>5126797.2</td>\n",
       "        </tr>\n",
       "        <tr>\n",
       "            <td>209</td>\n",
       "            <td>Taxi Driver</td>\n",
       "            <td>1976.0</td>\n",
       "            <td>USA</td>\n",
       "            <td>110.0</td>\n",
       "            <td>English</td>\n",
       "            <td>R</td>\n",
       "            <td>None</td>\n",
       "            <td>1300000.0</td>\n",
       "            <td>813</td>\n",
       "            <td>209</td>\n",
       "            <td>881.0</td>\n",
       "            <td>211.0</td>\n",
       "            <td>8.3</td>\n",
       "            <td>507063</td>\n",
       "            <td>35000</td>\n",
       "            <td>4208622.9</td>\n",
       "        </tr>\n",
       "        <tr>\n",
       "            <td>69</td>\n",
       "            <td>12 Angry Men</td>\n",
       "            <td>1957.0</td>\n",
       "            <td>USA</td>\n",
       "            <td>96.0</td>\n",
       "            <td>English</td>\n",
       "            <td>Not Rated</td>\n",
       "            <td>None</td>\n",
       "            <td>350000.0</td>\n",
       "            <td>3893</td>\n",
       "            <td>69</td>\n",
       "            <td>888.0</td>\n",
       "            <td>177.0</td>\n",
       "            <td>8.9</td>\n",
       "            <td>447785</td>\n",
       "            <td>40000</td>\n",
       "            <td>3985286.5</td>\n",
       "        </tr>\n",
       "        <tr>\n",
       "            <td>29</td>\n",
       "            <td>Casablanca</td>\n",
       "            <td>1942.0</td>\n",
       "            <td>USA</td>\n",
       "            <td>82.0</td>\n",
       "            <td>English</td>\n",
       "            <td>PG</td>\n",
       "            <td>None</td>\n",
       "            <td>950000.0</td>\n",
       "            <td>4968</td>\n",
       "            <td>29</td>\n",
       "            <td>1123.0</td>\n",
       "            <td>242.0</td>\n",
       "            <td>8.6</td>\n",
       "            <td>387508</td>\n",
       "            <td>23000</td>\n",
       "            <td>3332568.8</td>\n",
       "        </tr>\n",
       "        <tr>\n",
       "            <td>101</td>\n",
       "            <td>Dr. Strangelove or: How I Learned to Stop Worrying and Love the Bomb</td>\n",
       "            <td>1964.0</td>\n",
       "            <td>USA</td>\n",
       "            <td>95.0</td>\n",
       "            <td>English</td>\n",
       "            <td>PG</td>\n",
       "            <td>None</td>\n",
       "            <td>1800000.0</td>\n",
       "            <td>2921</td>\n",
       "            <td>101</td>\n",
       "            <td>839.0</td>\n",
       "            <td>192.0</td>\n",
       "            <td>8.5</td>\n",
       "            <td>342585</td>\n",
       "            <td>18000</td>\n",
       "            <td>2911972.5</td>\n",
       "        </tr>\n",
       "    </tbody>\n",
       "</table>"
      ],
      "text/plain": [
       "[(284, 'The Shining', 1980.0, 'USA', 146.0, 'English', 'R', None, 19000000.0, 1055, 284, 1320.0, 253.0, 8.4, 610333, 37000, 5126797.2),\n",
       " (209, 'Taxi Driver', 1976.0, 'USA', 110.0, 'English', 'R', None, 1300000.0, 813, 209, 881.0, 211.0, 8.3, 507063, 35000, 4208622.9),\n",
       " (69, '12 Angry Men', 1957.0, 'USA', 96.0, 'English', 'Not Rated', None, 350000.0, 3893, 69, 888.0, 177.0, 8.9, 447785, 40000, 3985286.5),\n",
       " (29, 'Casablanca', 1942.0, 'USA', 82.0, 'English', 'PG', None, 950000.0, 4968, 29, 1123.0, 242.0, 8.6, 387508, 23000, 3332568.8),\n",
       " (101, 'Dr. Strangelove or: How I Learned to Stop Worrying and Love the Bomb', 1964.0, 'USA', 95.0, 'English', 'PG', None, 1800000.0, 2921, 101, 839.0, 192.0, 8.5, 342585, 18000, 2911972.5)]"
      ]
     },
     "execution_count": 71,
     "metadata": {},
     "output_type": "execute_result"
    }
   ],
   "source": [
    "%%sql\n",
    "SELECT *, reviews.imdb_score*reviews.num_votes AS movie_rating\n",
    "FROM films\n",
    "LEFT JOIN reviews ON films.id = reviews.film_id\n",
    "\tWHERE films.release_year <1997\n",
    "\tAND gross IS NULL\n",
    "\tORDER BY movie_rating DESC\n",
    "LIMIT 5\n",
    ";"
   ]
  },
  {
   "cell_type": "markdown",
   "metadata": {},
   "source": [
    "### 4.3. Number of Movie Certifications\n",
    "**There are 12 different certifications present in this database and 302 rows where the info for certification is missing.** <br>\n",
    "Based on the historical MPAA (Motion Picture Association of America) ratings, these ratings have changed and modified over time but the following ratings approxoimately refer to the same category of movies:\n",
    "\n",
    "Approved/Passed (used prior to 1968 for G certified movies)\n",
    "M(used for 1968-1970) and GP (used for 1970-1972) for PG certification\n",
    "X (used prior to 1990 for NC-17 movies)\n",
    "\n",
    "Unrated/Not Rated/Movies without certification data will not be used to draw insight from certification. <br>\n",
    "We will replace the afformentioned certifications with it's modern MPAA equivalen."
   ]
  },
  {
   "cell_type": "code",
   "execution_count": 73,
   "metadata": {
    "vscode": {
     "languageId": "sql"
    }
   },
   "outputs": [
    {
     "name": "stdout",
     "output_type": "stream",
     "text": [
      "   sqlite:///:memory:\n",
      " * sqlite:///cinema.db\n",
      "   sqlite:///my_database.db\n",
      "Done.\n"
     ]
    },
    {
     "data": {
      "text/html": [
       "<table>\n",
       "    <thead>\n",
       "        <tr>\n",
       "            <th>certification</th>\n",
       "            <th>COUNT(*)</th>\n",
       "        </tr>\n",
       "    </thead>\n",
       "    <tbody>\n",
       "        <tr>\n",
       "            <td>R</td>\n",
       "            <td>2118</td>\n",
       "        </tr>\n",
       "        <tr>\n",
       "            <td>PG-13</td>\n",
       "            <td>1462</td>\n",
       "        </tr>\n",
       "        <tr>\n",
       "            <td>PG</td>\n",
       "            <td>701</td>\n",
       "        </tr>\n",
       "        <tr>\n",
       "            <td>None</td>\n",
       "            <td>302</td>\n",
       "        </tr>\n",
       "        <tr>\n",
       "            <td>Not Rated</td>\n",
       "            <td>116</td>\n",
       "        </tr>\n",
       "        <tr>\n",
       "            <td>G</td>\n",
       "            <td>112</td>\n",
       "        </tr>\n",
       "        <tr>\n",
       "            <td>Unrated</td>\n",
       "            <td>62</td>\n",
       "        </tr>\n",
       "        <tr>\n",
       "            <td>Approved</td>\n",
       "            <td>55</td>\n",
       "        </tr>\n",
       "        <tr>\n",
       "            <td>X</td>\n",
       "            <td>13</td>\n",
       "        </tr>\n",
       "        <tr>\n",
       "            <td>Passed</td>\n",
       "            <td>9</td>\n",
       "        </tr>\n",
       "        <tr>\n",
       "            <td>NC-17</td>\n",
       "            <td>7</td>\n",
       "        </tr>\n",
       "        <tr>\n",
       "            <td>GP</td>\n",
       "            <td>6</td>\n",
       "        </tr>\n",
       "        <tr>\n",
       "            <td>M</td>\n",
       "            <td>5</td>\n",
       "        </tr>\n",
       "    </tbody>\n",
       "</table>"
      ],
      "text/plain": [
       "[('R', 2118),\n",
       " ('PG-13', 1462),\n",
       " ('PG', 701),\n",
       " (None, 302),\n",
       " ('Not Rated', 116),\n",
       " ('G', 112),\n",
       " ('Unrated', 62),\n",
       " ('Approved', 55),\n",
       " ('X', 13),\n",
       " ('Passed', 9),\n",
       " ('NC-17', 7),\n",
       " ('GP', 6),\n",
       " ('M', 5)]"
      ]
     },
     "execution_count": 73,
     "metadata": {},
     "output_type": "execute_result"
    }
   ],
   "source": [
    "%%sql\n",
    "SELECT certification, COUNT(*)\n",
    "FROM films\n",
    "GROUP BY certification\n",
    "Order By COUNT(*) DESC;"
   ]
  },
  {
   "cell_type": "code",
   "execution_count": 76,
   "metadata": {
    "vscode": {
     "languageId": "sql"
    }
   },
   "outputs": [
    {
     "name": "stdout",
     "output_type": "stream",
     "text": [
      "   sqlite:///:memory:\n",
      " * sqlite:///cinema.db\n",
      "   sqlite:///my_database.db\n",
      "Done.\n"
     ]
    },
    {
     "data": {
      "text/html": [
       "<table>\n",
       "    <thead>\n",
       "        <tr>\n",
       "            <th>certification</th>\n",
       "            <th>avg_gross</th>\n",
       "            <th>min_gross</th>\n",
       "            <th>max_gross</th>\n",
       "            <th>COUNT(*)</th>\n",
       "            <th>BER</th>\n",
       "        </tr>\n",
       "    </thead>\n",
       "    <tbody>\n",
       "        <tr>\n",
       "            <td>R</td>\n",
       "            <td>31587246.0</td>\n",
       "            <td>162.0</td>\n",
       "            <td>363024263.0</td>\n",
       "            <td>1736</td>\n",
       "            <td>921.0</td>\n",
       "        </tr>\n",
       "        <tr>\n",
       "            <td>PG-13</td>\n",
       "            <td>68880734.0</td>\n",
       "            <td>1111.0</td>\n",
       "            <td>936627416.0</td>\n",
       "            <td>1332</td>\n",
       "            <td>182.0</td>\n",
       "        </tr>\n",
       "        <tr>\n",
       "            <td>PG</td>\n",
       "            <td>76248547.0</td>\n",
       "            <td>4756.0</td>\n",
       "            <td>474544677.0</td>\n",
       "            <td>578</td>\n",
       "            <td>374.0</td>\n",
       "        </tr>\n",
       "        <tr>\n",
       "            <td>G</td>\n",
       "            <td>76001633.0</td>\n",
       "            <td>14873.0</td>\n",
       "            <td>422783777.0</td>\n",
       "            <td>111</td>\n",
       "            <td>550.0</td>\n",
       "        </tr>\n",
       "        <tr>\n",
       "            <td>None</td>\n",
       "            <td>851197.0</td>\n",
       "            <td>2245.0</td>\n",
       "            <td>7518876.0</td>\n",
       "            <td>51</td>\n",
       "            <td>113.0</td>\n",
       "        </tr>\n",
       "        <tr>\n",
       "            <td>Not Rated</td>\n",
       "            <td>2578859.0</td>\n",
       "            <td>1332.0</td>\n",
       "            <td>36000000.0</td>\n",
       "            <td>42</td>\n",
       "            <td>317.0</td>\n",
       "        </tr>\n",
       "        <tr>\n",
       "            <td>Unrated</td>\n",
       "            <td>5790881.0</td>\n",
       "            <td>18435.0</td>\n",
       "            <td>43650000.0</td>\n",
       "            <td>23</td>\n",
       "            <td>207.0</td>\n",
       "        </tr>\n",
       "        <tr>\n",
       "            <td>NC-17</td>\n",
       "            <td>13340584.0</td>\n",
       "            <td>126387.0</td>\n",
       "            <td>44793200.0</td>\n",
       "            <td>16</td>\n",
       "            <td>539.0</td>\n",
       "        </tr>\n",
       "    </tbody>\n",
       "</table>"
      ],
      "text/plain": [
       "[('R', 31587246.0, 162.0, 363024263.0, 1736, 921.0),\n",
       " ('PG-13', 68880734.0, 1111.0, 936627416.0, 1332, 182.0),\n",
       " ('PG', 76248547.0, 4756.0, 474544677.0, 578, 374.0),\n",
       " ('G', 76001633.0, 14873.0, 422783777.0, 111, 550.0),\n",
       " (None, 851197.0, 2245.0, 7518876.0, 51, 113.0),\n",
       " ('Not Rated', 2578859.0, 1332.0, 36000000.0, 42, 317.0),\n",
       " ('Unrated', 5790881.0, 18435.0, 43650000.0, 23, 207.0),\n",
       " ('NC-17', 13340584.0, 126387.0, 44793200.0, 16, 539.0)]"
      ]
     },
     "execution_count": 76,
     "metadata": {},
     "output_type": "execute_result"
    }
   ],
   "source": [
    "%%sql\n",
    "WITH updated_certifications AS (\n",
    "    SELECT\n",
    "        title,\n",
    "        release_year,\n",
    "        duration,\n",
    "        gross,\n",
    "        budget,\n",
    "        language,\n",
    "        country,\n",
    "        CASE\n",
    "            WHEN certification IN ('Approved', 'Passed') THEN 'G'\n",
    "            WHEN certification IN ('M', 'GP') THEN 'PG'\n",
    "            WHEN certification = 'X' THEN 'NC-17'\n",
    "            ELSE certification\n",
    "        END AS certification\n",
    "    FROM films\n",
    ")\n",
    "-- Now we can query the CTE as if it were a regular table\n",
    "SELECT certification, \n",
    "\t   ROUND(AVG(gross)) AS avg_gross, \n",
    "\t   ROUND(MIN(gross)) AS min_gross, \n",
    "\t   ROUND(MAX(gross)) AS max_gross, \n",
    "\t   COUNT(*),\n",
    "\t   ROUND(AVG((CAST(gross AS numeric)/CAST (budget AS numeric))*100))AS BER\n",
    "FROM updated_certifications\n",
    "WHERE gross IS NOT NULL\n",
    "-- Remove outliers like Tarnation with very limited budget\n",
    "\tAND budget >=5000\n",
    "-- WHERE certification NOT IN ('','Not Rated','Unrated')\n",
    "GROUP BY certification\n",
    "Order By COUNT(*) DESC\n",
    ";"
   ]
  },
  {
   "cell_type": "markdown",
   "metadata": {},
   "source": [
    "The transformation of data above simplifies the data analytics process. We see majority of movies are classified as Restricted content. Although the average gross revenue of the family friendly movies (G, PG and PG-13 certification) is the highest among all movie categories which reflect it's market dominance and scale, this doesn't necessarily mean that it is the best investment. Budget Efficiency Ratio (BER) of Restricted movies is ~67% higher than G certified movies, which reflects it's potential for profitability and explains why producers have created most movies in this category. "
   ]
  },
  {
   "cell_type": "markdown",
   "metadata": {},
   "source": [
    "### 4.4. Countries with Highest Number of Movies Produced\n",
    "**This list ranks the top 5 countries by the number of movies produced:<br>\n",
    "1- USA <br>\n",
    "2- UK <br>\n",
    "3- France <br>\n",
    "4- Canada <br>\n",
    "5- Germany**"
   ]
  },
  {
   "cell_type": "code",
   "execution_count": 86,
   "metadata": {
    "vscode": {
     "languageId": "sql"
    }
   },
   "outputs": [
    {
     "name": "stdout",
     "output_type": "stream",
     "text": [
      "   sqlite:///:memory:\n",
      " * sqlite:///cinema.db\n",
      "   sqlite:///my_database.db\n",
      "Done.\n"
     ]
    },
    {
     "data": {
      "text/html": [
       "<table>\n",
       "    <thead>\n",
       "        <tr>\n",
       "            <th>country</th>\n",
       "            <th>movie_count</th>\n",
       "        </tr>\n",
       "    </thead>\n",
       "    <tbody>\n",
       "        <tr>\n",
       "            <td>USA</td>\n",
       "            <td>3750</td>\n",
       "        </tr>\n",
       "        <tr>\n",
       "            <td>UK</td>\n",
       "            <td>443</td>\n",
       "        </tr>\n",
       "        <tr>\n",
       "            <td>France</td>\n",
       "            <td>153</td>\n",
       "        </tr>\n",
       "        <tr>\n",
       "            <td>Canada</td>\n",
       "            <td>123</td>\n",
       "        </tr>\n",
       "        <tr>\n",
       "            <td>Germany</td>\n",
       "            <td>97</td>\n",
       "        </tr>\n",
       "    </tbody>\n",
       "</table>"
      ],
      "text/plain": [
       "[('USA', 3750), ('UK', 443), ('France', 153), ('Canada', 123), ('Germany', 97)]"
      ]
     },
     "execution_count": 86,
     "metadata": {},
     "output_type": "execute_result"
    }
   ],
   "source": [
    "%%sql\n",
    "SELECT DISTINCT country, COUNT(*) AS movie_count\n",
    "FROM films\n",
    "GROUP BY country\n",
    "ORDER BY movie_count DESC\n",
    "LIMIT 5;"
   ]
  },
  {
   "cell_type": "markdown",
   "metadata": {},
   "source": [
    "### 4.5. Average Duration of English vs. French Movies\n",
    "**Average English movie duration is 107.6 min versus 104.7 min for French movies.**"
   ]
  },
  {
   "cell_type": "code",
   "execution_count": 90,
   "metadata": {
    "vscode": {
     "languageId": "sql"
    }
   },
   "outputs": [
    {
     "name": "stdout",
     "output_type": "stream",
     "text": [
      "   sqlite:///:memory:\n",
      " * sqlite:///cinema.db\n",
      "   sqlite:///my_database.db\n",
      "Done.\n"
     ]
    },
    {
     "data": {
      "text/html": [
       "<table>\n",
       "    <thead>\n",
       "        <tr>\n",
       "            <th>avg_duration</th>\n",
       "            <th>language</th>\n",
       "        </tr>\n",
       "    </thead>\n",
       "    <tbody>\n",
       "        <tr>\n",
       "            <td>107.64</td>\n",
       "            <td>English</td>\n",
       "        </tr>\n",
       "        <tr>\n",
       "            <td>104.67</td>\n",
       "            <td>French</td>\n",
       "        </tr>\n",
       "    </tbody>\n",
       "</table>"
      ],
      "text/plain": [
       "[(107.64, 'English'), (104.67, 'French')]"
      ]
     },
     "execution_count": 90,
     "metadata": {},
     "output_type": "execute_result"
    }
   ],
   "source": [
    "%%sql\n",
    "SELECT ROUND(AVG(duration),2) AS avg_duration, language\n",
    "FROM films\n",
    "WHERE language IN ('English', 'French')\n",
    "GROUP BY language;"
   ]
  },
  {
   "cell_type": "markdown",
   "metadata": {},
   "source": [
    "### 4.6. Other Insights\n",
    "**There are movies released originally in 47 different countries in this table. On average the movies released in New Zealand, Taiwan and Peru (Despite the fact of having overal very limited number of movies) have the highest gross revenues.**"
   ]
  },
  {
   "cell_type": "code",
   "execution_count": 94,
   "metadata": {
    "vscode": {
     "languageId": "sql"
    }
   },
   "outputs": [
    {
     "name": "stdout",
     "output_type": "stream",
     "text": [
      "   sqlite:///:memory:\n",
      " * sqlite:///cinema.db\n",
      "   sqlite:///my_database.db\n",
      "Done.\n"
     ]
    },
    {
     "data": {
      "text/html": [
       "<table>\n",
       "    <thead>\n",
       "        <tr>\n",
       "            <th>country</th>\n",
       "            <th>avg_gross</th>\n",
       "            <th>COUNT(gross)</th>\n",
       "        </tr>\n",
       "    </thead>\n",
       "    <tbody>\n",
       "        <tr>\n",
       "            <td>New Zealand</td>\n",
       "            <td>108180043.5</td>\n",
       "            <td>12</td>\n",
       "        </tr>\n",
       "        <tr>\n",
       "            <td>Taiwan</td>\n",
       "            <td>64340682.0</td>\n",
       "            <td>2</td>\n",
       "        </tr>\n",
       "        <tr>\n",
       "            <td>Peru</td>\n",
       "            <td>57362581.0</td>\n",
       "            <td>1</td>\n",
       "        </tr>\n",
       "        <tr>\n",
       "            <td>USA</td>\n",
       "            <td>55476089.19</td>\n",
       "            <td>3237</td>\n",
       "        </tr>\n",
       "        <tr>\n",
       "            <td>South Africa</td>\n",
       "            <td>53580080.33</td>\n",
       "            <td>3</td>\n",
       "        </tr>\n",
       "        <tr>\n",
       "            <td>Australia</td>\n",
       "            <td>40205909.57</td>\n",
       "            <td>42</td>\n",
       "        </tr>\n",
       "        <tr>\n",
       "            <td>Japan</td>\n",
       "            <td>33553701.47</td>\n",
       "            <td>17</td>\n",
       "        </tr>\n",
       "        <tr>\n",
       "            <td>UK</td>\n",
       "            <td>32440108.68</td>\n",
       "            <td>364</td>\n",
       "        </tr>\n",
       "        <tr>\n",
       "            <td>Germany</td>\n",
       "            <td>27984127.66</td>\n",
       "            <td>88</td>\n",
       "        </tr>\n",
       "        <tr>\n",
       "            <td>Canada</td>\n",
       "            <td>22432066.68</td>\n",
       "            <td>72</td>\n",
       "        </tr>\n",
       "    </tbody>\n",
       "</table>"
      ],
      "text/plain": [
       "[('New Zealand', 108180043.5, 12),\n",
       " ('Taiwan', 64340682.0, 2),\n",
       " ('Peru', 57362581.0, 1),\n",
       " ('USA', 55476089.19, 3237),\n",
       " ('South Africa', 53580080.33, 3),\n",
       " ('Australia', 40205909.57, 42),\n",
       " ('Japan', 33553701.47, 17),\n",
       " ('UK', 32440108.68, 364),\n",
       " ('Germany', 27984127.66, 88),\n",
       " ('Canada', 22432066.68, 72)]"
      ]
     },
     "execution_count": 94,
     "metadata": {},
     "output_type": "execute_result"
    }
   ],
   "source": [
    "%%sql\n",
    "SELECT DISTINCT country, ROUND(AVG(gross),2) AS avg_gross, COUNT(gross) \n",
    "FROM films\n",
    "WHERE gross IS NOT NULL\n",
    "GROUP BY country\n",
    "ORDER BY avg_gross DESC\n",
    "LIMIT 10;"
   ]
  }
 ],
 "metadata": {
  "kernelspec": {
   "display_name": "Python 3",
   "language": "python",
   "name": "python3"
  },
  "language_info": {
   "codemirror_mode": {
    "name": "ipython",
    "version": 3
   },
   "file_extension": ".py",
   "mimetype": "text/x-python",
   "name": "python",
   "nbconvert_exporter": "python",
   "pygments_lexer": "ipython3",
   "version": "3.12.1"
  }
 },
 "nbformat": 4,
 "nbformat_minor": 2
}
